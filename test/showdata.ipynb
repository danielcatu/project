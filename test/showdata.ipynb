{
 "cells": [
  {
   "cell_type": "code",
   "execution_count": 1,
   "metadata": {},
   "outputs": [],
   "source": [
    "import pandas as pd\n",
    "import matplotlib.pyplot as plt\n",
    "import os"
   ]
  },
  {
   "cell_type": "code",
   "execution_count": 2,
   "metadata": {},
   "outputs": [
    {
     "name": "stdout",
     "output_type": "stream",
     "text": [
      "/home/danielcatu/documents/tesis/project/test\n",
      "   num_invocation  current_num_invocation  wait_time  elapsed_time  real_time  \\\n",
      "0               1                       1  30.298112     55.644736     53.716   \n",
      "1               1                       1  30.298112     55.644736     53.716   \n",
      "2               1                       1  30.298112     55.644736     53.716   \n",
      "3               1                       1  30.298112     55.644736     53.716   \n",
      "4               1                       1  30.298112     55.644736     53.716   \n",
      "\n",
      "   user_time  cpu_usage  memory_usage     timestamp  current_minute  \n",
      "0      53.33   0.020200   607039488.0  1.701360e+09               1  \n",
      "1      53.33   0.020200   607039488.0  1.701360e+09               1  \n",
      "2      53.33   0.020200   607039488.0  1.701360e+09               1  \n",
      "3      53.33   0.020200   607039488.0  1.701360e+09               1  \n",
      "4      53.33   0.383159   607039488.0  1.701360e+09               1  \n"
     ]
    }
   ],
   "source": [
    "# Leer datos desde el archivo results.csv\n",
    "print(os.getcwd())\n",
    "file_name = 'blackscholes_1_2.csv'\n",
    "file_path = '../result/blackscholes_1_3.csv'\n",
    "df = pd.read_csv(file_path)\n",
    "print(df.head())"
   ]
  },
  {
   "cell_type": "code",
   "execution_count": 23,
   "metadata": {},
   "outputs": [
    {
     "data": {
      "text/plain": [
       "2020"
      ]
     },
     "execution_count": 23,
     "metadata": {},
     "output_type": "execute_result"
    }
   ],
   "source": [
    "df.size"
   ]
  },
  {
   "cell_type": "code",
   "execution_count": 24,
   "metadata": {},
   "outputs": [],
   "source": [
    "# Drop the index column\n",
    "# df = df.drop(columns=['Unnamed: 0'])"
   ]
  },
  {
   "cell_type": "code",
   "execution_count": 4,
   "metadata": {},
   "outputs": [],
   "source": [
    "from sklearn.model_selection import train_test_split\n",
    "\n",
    "# Separar los conjuntos de características (X) y variable objetivo (y)\n",
    "X = df.drop(columns=['cpu_usage', 'memory_usage'])  # Características\n",
    "y_cpu = df['cpu_usage']  # Variable objetivo para CPU\n",
    "y_memory = df['memory_usage']  # Variable objetivo para memoria\n",
    "\n",
    "# Dividir los datos en conjuntos de entrenamiento y prueba para CPU\n",
    "X_train_cpu, X_test_cpu, y_train_cpu, y_test_cpu = train_test_split(X, y_cpu, test_size=0.2, random_state=42)\n",
    "\n",
    "# Dividir los datos en conjuntos de entrenamiento y prueba para memoria\n",
    "X_train_memory, X_test_memory, y_train_memory, y_test_memory = train_test_split(X, y_memory, test_size=0.2, random_state=42)\n"
   ]
  },
  {
   "cell_type": "code",
   "execution_count": 5,
   "metadata": {},
   "outputs": [
    {
     "name": "stdout",
     "output_type": "stream",
     "text": [
      "Matriz de Covarianza:\n"
     ]
    },
    {
     "data": {
      "text/html": [
       "<div>\n",
       "<style scoped>\n",
       "    .dataframe tbody tr th:only-of-type {\n",
       "        vertical-align: middle;\n",
       "    }\n",
       "\n",
       "    .dataframe tbody tr th {\n",
       "        vertical-align: top;\n",
       "    }\n",
       "\n",
       "    .dataframe thead th {\n",
       "        text-align: right;\n",
       "    }\n",
       "</style>\n",
       "<table border=\"1\" class=\"dataframe\">\n",
       "  <thead>\n",
       "    <tr style=\"text-align: right;\">\n",
       "      <th></th>\n",
       "      <th>num_invocation</th>\n",
       "      <th>current_num_invocation</th>\n",
       "      <th>wait_time</th>\n",
       "      <th>elapsed_time</th>\n",
       "      <th>real_time</th>\n",
       "      <th>user_time</th>\n",
       "      <th>cpu_usage</th>\n",
       "      <th>memory_usage</th>\n",
       "      <th>timestamp</th>\n",
       "      <th>current_minute</th>\n",
       "    </tr>\n",
       "  </thead>\n",
       "  <tbody>\n",
       "    <tr>\n",
       "      <th>num_invocation</th>\n",
       "      <td>4.538917e-01</td>\n",
       "      <td>1.568234e-01</td>\n",
       "      <td>2.943508e+00</td>\n",
       "      <td>6.789728e+00</td>\n",
       "      <td>6.729803e+00</td>\n",
       "      <td>1.128335e+00</td>\n",
       "      <td>3.275424e-02</td>\n",
       "      <td>1.637633e+08</td>\n",
       "      <td>1.345872e+01</td>\n",
       "      <td>4.792914e-02</td>\n",
       "    </tr>\n",
       "    <tr>\n",
       "      <th>current_num_invocation</th>\n",
       "      <td>1.568234e-01</td>\n",
       "      <td>3.169690e-01</td>\n",
       "      <td>7.175804e-01</td>\n",
       "      <td>1.465753e+01</td>\n",
       "      <td>1.463048e+01</td>\n",
       "      <td>2.276590e+00</td>\n",
       "      <td>4.998169e-02</td>\n",
       "      <td>2.814815e+08</td>\n",
       "      <td>2.690087e+01</td>\n",
       "      <td>1.278493e-01</td>\n",
       "    </tr>\n",
       "    <tr>\n",
       "      <th>wait_time</th>\n",
       "      <td>2.943508e+00</td>\n",
       "      <td>7.175804e-01</td>\n",
       "      <td>3.077982e+02</td>\n",
       "      <td>-4.786899e+01</td>\n",
       "      <td>-4.884316e+01</td>\n",
       "      <td>9.243078e+00</td>\n",
       "      <td>-5.699790e-01</td>\n",
       "      <td>1.812855e+09</td>\n",
       "      <td>-2.249679e+03</td>\n",
       "      <td>-1.783371e+01</td>\n",
       "    </tr>\n",
       "    <tr>\n",
       "      <th>elapsed_time</th>\n",
       "      <td>6.789728e+00</td>\n",
       "      <td>1.465753e+01</td>\n",
       "      <td>-4.786899e+01</td>\n",
       "      <td>1.915137e+03</td>\n",
       "      <td>1.912058e+03</td>\n",
       "      <td>1.659854e+02</td>\n",
       "      <td>-2.699783e-01</td>\n",
       "      <td>2.257130e+10</td>\n",
       "      <td>2.086648e+04</td>\n",
       "      <td>1.453386e+02</td>\n",
       "    </tr>\n",
       "    <tr>\n",
       "      <th>real_time</th>\n",
       "      <td>6.729803e+00</td>\n",
       "      <td>1.463048e+01</td>\n",
       "      <td>-4.884316e+01</td>\n",
       "      <td>1.912058e+03</td>\n",
       "      <td>1.909108e+03</td>\n",
       "      <td>1.657630e+02</td>\n",
       "      <td>-2.697789e-01</td>\n",
       "      <td>2.253298e+10</td>\n",
       "      <td>2.083773e+04</td>\n",
       "      <td>1.451336e+02</td>\n",
       "    </tr>\n",
       "    <tr>\n",
       "      <th>user_time</th>\n",
       "      <td>1.128335e+00</td>\n",
       "      <td>2.276590e+00</td>\n",
       "      <td>9.243078e+00</td>\n",
       "      <td>1.659854e+02</td>\n",
       "      <td>1.657630e+02</td>\n",
       "      <td>2.294326e+01</td>\n",
       "      <td>2.375333e-01</td>\n",
       "      <td>2.582456e+09</td>\n",
       "      <td>1.268216e+03</td>\n",
       "      <td>8.289906e+00</td>\n",
       "    </tr>\n",
       "    <tr>\n",
       "      <th>cpu_usage</th>\n",
       "      <td>3.275424e-02</td>\n",
       "      <td>4.998169e-02</td>\n",
       "      <td>-5.699790e-01</td>\n",
       "      <td>-2.699783e-01</td>\n",
       "      <td>-2.697789e-01</td>\n",
       "      <td>2.375333e-01</td>\n",
       "      <td>1.216442e-01</td>\n",
       "      <td>6.156361e+07</td>\n",
       "      <td>-3.349431e+01</td>\n",
       "      <td>-2.618921e-01</td>\n",
       "    </tr>\n",
       "    <tr>\n",
       "      <th>memory_usage</th>\n",
       "      <td>1.637633e+08</td>\n",
       "      <td>2.814815e+08</td>\n",
       "      <td>1.812855e+09</td>\n",
       "      <td>2.257130e+10</td>\n",
       "      <td>2.253298e+10</td>\n",
       "      <td>2.582456e+09</td>\n",
       "      <td>6.156361e+07</td>\n",
       "      <td>1.165625e+18</td>\n",
       "      <td>1.785515e+11</td>\n",
       "      <td>1.048411e+09</td>\n",
       "    </tr>\n",
       "    <tr>\n",
       "      <th>timestamp</th>\n",
       "      <td>1.345872e+01</td>\n",
       "      <td>2.690087e+01</td>\n",
       "      <td>-2.249679e+03</td>\n",
       "      <td>2.086648e+04</td>\n",
       "      <td>2.083773e+04</td>\n",
       "      <td>1.268216e+03</td>\n",
       "      <td>-3.349431e+01</td>\n",
       "      <td>1.785515e+11</td>\n",
       "      <td>6.855689e+05</td>\n",
       "      <td>4.677243e+03</td>\n",
       "    </tr>\n",
       "    <tr>\n",
       "      <th>current_minute</th>\n",
       "      <td>4.792914e-02</td>\n",
       "      <td>1.278493e-01</td>\n",
       "      <td>-1.783371e+01</td>\n",
       "      <td>1.453386e+02</td>\n",
       "      <td>1.451336e+02</td>\n",
       "      <td>8.289906e+00</td>\n",
       "      <td>-2.618921e-01</td>\n",
       "      <td>1.048411e+09</td>\n",
       "      <td>4.677243e+03</td>\n",
       "      <td>3.211302e+01</td>\n",
       "    </tr>\n",
       "  </tbody>\n",
       "</table>\n",
       "</div>"
      ],
      "text/plain": [
       "                        num_invocation  current_num_invocation     wait_time  \\\n",
       "num_invocation            4.538917e-01            1.568234e-01  2.943508e+00   \n",
       "current_num_invocation    1.568234e-01            3.169690e-01  7.175804e-01   \n",
       "wait_time                 2.943508e+00            7.175804e-01  3.077982e+02   \n",
       "elapsed_time              6.789728e+00            1.465753e+01 -4.786899e+01   \n",
       "real_time                 6.729803e+00            1.463048e+01 -4.884316e+01   \n",
       "user_time                 1.128335e+00            2.276590e+00  9.243078e+00   \n",
       "cpu_usage                 3.275424e-02            4.998169e-02 -5.699790e-01   \n",
       "memory_usage              1.637633e+08            2.814815e+08  1.812855e+09   \n",
       "timestamp                 1.345872e+01            2.690087e+01 -2.249679e+03   \n",
       "current_minute            4.792914e-02            1.278493e-01 -1.783371e+01   \n",
       "\n",
       "                        elapsed_time     real_time     user_time  \\\n",
       "num_invocation          6.789728e+00  6.729803e+00  1.128335e+00   \n",
       "current_num_invocation  1.465753e+01  1.463048e+01  2.276590e+00   \n",
       "wait_time              -4.786899e+01 -4.884316e+01  9.243078e+00   \n",
       "elapsed_time            1.915137e+03  1.912058e+03  1.659854e+02   \n",
       "real_time               1.912058e+03  1.909108e+03  1.657630e+02   \n",
       "user_time               1.659854e+02  1.657630e+02  2.294326e+01   \n",
       "cpu_usage              -2.699783e-01 -2.697789e-01  2.375333e-01   \n",
       "memory_usage            2.257130e+10  2.253298e+10  2.582456e+09   \n",
       "timestamp               2.086648e+04  2.083773e+04  1.268216e+03   \n",
       "current_minute          1.453386e+02  1.451336e+02  8.289906e+00   \n",
       "\n",
       "                           cpu_usage  memory_usage     timestamp  \\\n",
       "num_invocation          3.275424e-02  1.637633e+08  1.345872e+01   \n",
       "current_num_invocation  4.998169e-02  2.814815e+08  2.690087e+01   \n",
       "wait_time              -5.699790e-01  1.812855e+09 -2.249679e+03   \n",
       "elapsed_time           -2.699783e-01  2.257130e+10  2.086648e+04   \n",
       "real_time              -2.697789e-01  2.253298e+10  2.083773e+04   \n",
       "user_time               2.375333e-01  2.582456e+09  1.268216e+03   \n",
       "cpu_usage               1.216442e-01  6.156361e+07 -3.349431e+01   \n",
       "memory_usage            6.156361e+07  1.165625e+18  1.785515e+11   \n",
       "timestamp              -3.349431e+01  1.785515e+11  6.855689e+05   \n",
       "current_minute         -2.618921e-01  1.048411e+09  4.677243e+03   \n",
       "\n",
       "                        current_minute  \n",
       "num_invocation            4.792914e-02  \n",
       "current_num_invocation    1.278493e-01  \n",
       "wait_time                -1.783371e+01  \n",
       "elapsed_time              1.453386e+02  \n",
       "real_time                 1.451336e+02  \n",
       "user_time                 8.289906e+00  \n",
       "cpu_usage                -2.618921e-01  \n",
       "memory_usage              1.048411e+09  \n",
       "timestamp                 4.677243e+03  \n",
       "current_minute            3.211302e+01  "
      ]
     },
     "execution_count": 5,
     "metadata": {},
     "output_type": "execute_result"
    }
   ],
   "source": [
    "cov_matrix = df.cov()\n",
    "\n",
    "print(\"Matriz de Covarianza:\")\n",
    "cov_matrix"
   ]
  },
  {
   "cell_type": "code",
   "execution_count": 27,
   "metadata": {},
   "outputs": [
    {
     "data": {
      "text/html": [
       "<div>\n",
       "<style scoped>\n",
       "    .dataframe tbody tr th:only-of-type {\n",
       "        vertical-align: middle;\n",
       "    }\n",
       "\n",
       "    .dataframe tbody tr th {\n",
       "        vertical-align: top;\n",
       "    }\n",
       "\n",
       "    .dataframe thead th {\n",
       "        text-align: right;\n",
       "    }\n",
       "</style>\n",
       "<table border=\"1\" class=\"dataframe\">\n",
       "  <thead>\n",
       "    <tr style=\"text-align: right;\">\n",
       "      <th></th>\n",
       "      <th>num_invocation</th>\n",
       "      <th>current_num_invocation</th>\n",
       "      <th>wait_time</th>\n",
       "      <th>elapsed_time</th>\n",
       "      <th>real_time</th>\n",
       "      <th>user_time</th>\n",
       "      <th>cpu_usage</th>\n",
       "      <th>memory_usage</th>\n",
       "      <th>timestamp</th>\n",
       "      <th>current_minute</th>\n",
       "    </tr>\n",
       "  </thead>\n",
       "  <tbody>\n",
       "    <tr>\n",
       "      <th>0</th>\n",
       "      <td>1</td>\n",
       "      <td>5</td>\n",
       "      <td>18.578642</td>\n",
       "      <td>60.961074</td>\n",
       "      <td>60.120</td>\n",
       "      <td>59.825</td>\n",
       "      <td>2.813622</td>\n",
       "      <td>2.188837e+09</td>\n",
       "      <td>1.700790e+09</td>\n",
       "      <td>1</td>\n",
       "    </tr>\n",
       "    <tr>\n",
       "      <th>1</th>\n",
       "      <td>4</td>\n",
       "      <td>5</td>\n",
       "      <td>22.754974</td>\n",
       "      <td>65.619410</td>\n",
       "      <td>64.720</td>\n",
       "      <td>60.195</td>\n",
       "      <td>2.813622</td>\n",
       "      <td>3.666592e+09</td>\n",
       "      <td>1.700790e+09</td>\n",
       "      <td>1</td>\n",
       "    </tr>\n",
       "    <tr>\n",
       "      <th>2</th>\n",
       "      <td>4</td>\n",
       "      <td>5</td>\n",
       "      <td>22.754974</td>\n",
       "      <td>65.619410</td>\n",
       "      <td>64.720</td>\n",
       "      <td>60.195</td>\n",
       "      <td>2.813622</td>\n",
       "      <td>3.666592e+09</td>\n",
       "      <td>1.700790e+09</td>\n",
       "      <td>1</td>\n",
       "    </tr>\n",
       "    <tr>\n",
       "      <th>3</th>\n",
       "      <td>4</td>\n",
       "      <td>5</td>\n",
       "      <td>22.754974</td>\n",
       "      <td>65.619410</td>\n",
       "      <td>64.720</td>\n",
       "      <td>60.195</td>\n",
       "      <td>2.813622</td>\n",
       "      <td>3.666592e+09</td>\n",
       "      <td>1.700790e+09</td>\n",
       "      <td>1</td>\n",
       "    </tr>\n",
       "    <tr>\n",
       "      <th>4</th>\n",
       "      <td>2</td>\n",
       "      <td>5</td>\n",
       "      <td>28.893084</td>\n",
       "      <td>64.964483</td>\n",
       "      <td>63.916</td>\n",
       "      <td>63.449</td>\n",
       "      <td>2.813622</td>\n",
       "      <td>3.666592e+09</td>\n",
       "      <td>1.700790e+09</td>\n",
       "      <td>1</td>\n",
       "    </tr>\n",
       "  </tbody>\n",
       "</table>\n",
       "</div>"
      ],
      "text/plain": [
       "   num_invocation  current_num_invocation  wait_time  elapsed_time  real_time  \\\n",
       "0               1                       5  18.578642     60.961074     60.120   \n",
       "1               4                       5  22.754974     65.619410     64.720   \n",
       "2               4                       5  22.754974     65.619410     64.720   \n",
       "3               4                       5  22.754974     65.619410     64.720   \n",
       "4               2                       5  28.893084     64.964483     63.916   \n",
       "\n",
       "   user_time  cpu_usage  memory_usage     timestamp  current_minute  \n",
       "0     59.825   2.813622  2.188837e+09  1.700790e+09               1  \n",
       "1     60.195   2.813622  3.666592e+09  1.700790e+09               1  \n",
       "2     60.195   2.813622  3.666592e+09  1.700790e+09               1  \n",
       "3     60.195   2.813622  3.666592e+09  1.700790e+09               1  \n",
       "4     63.449   2.813622  3.666592e+09  1.700790e+09               1  "
      ]
     },
     "execution_count": 27,
     "metadata": {},
     "output_type": "execute_result"
    }
   ],
   "source": [
    "df.head()"
   ]
  },
  {
   "cell_type": "code",
   "execution_count": 6,
   "metadata": {},
   "outputs": [
    {
     "data": {
      "text/html": [
       "<div>\n",
       "<style scoped>\n",
       "    .dataframe tbody tr th:only-of-type {\n",
       "        vertical-align: middle;\n",
       "    }\n",
       "\n",
       "    .dataframe tbody tr th {\n",
       "        vertical-align: top;\n",
       "    }\n",
       "\n",
       "    .dataframe thead th {\n",
       "        text-align: right;\n",
       "    }\n",
       "</style>\n",
       "<table border=\"1\" class=\"dataframe\">\n",
       "  <thead>\n",
       "    <tr style=\"text-align: right;\">\n",
       "      <th></th>\n",
       "      <th>Feature</th>\n",
       "      <th>Importance</th>\n",
       "    </tr>\n",
       "  </thead>\n",
       "  <tbody>\n",
       "    <tr>\n",
       "      <th>6</th>\n",
       "      <td>memory_usage</td>\n",
       "      <td>0.414153</td>\n",
       "    </tr>\n",
       "    <tr>\n",
       "      <th>2</th>\n",
       "      <td>wait_time</td>\n",
       "      <td>0.254092</td>\n",
       "    </tr>\n",
       "    <tr>\n",
       "      <th>7</th>\n",
       "      <td>timestamp</td>\n",
       "      <td>0.091960</td>\n",
       "    </tr>\n",
       "    <tr>\n",
       "      <th>1</th>\n",
       "      <td>current_num_invocation</td>\n",
       "      <td>0.046723</td>\n",
       "    </tr>\n",
       "    <tr>\n",
       "      <th>4</th>\n",
       "      <td>real_time</td>\n",
       "      <td>0.045992</td>\n",
       "    </tr>\n",
       "    <tr>\n",
       "      <th>5</th>\n",
       "      <td>user_time</td>\n",
       "      <td>0.045945</td>\n",
       "    </tr>\n",
       "    <tr>\n",
       "      <th>8</th>\n",
       "      <td>current_minute</td>\n",
       "      <td>0.042571</td>\n",
       "    </tr>\n",
       "    <tr>\n",
       "      <th>3</th>\n",
       "      <td>elapsed_time</td>\n",
       "      <td>0.040907</td>\n",
       "    </tr>\n",
       "    <tr>\n",
       "      <th>0</th>\n",
       "      <td>num_invocation</td>\n",
       "      <td>0.017656</td>\n",
       "    </tr>\n",
       "  </tbody>\n",
       "</table>\n",
       "</div>"
      ],
      "text/plain": [
       "                  Feature  Importance\n",
       "6            memory_usage    0.414153\n",
       "2               wait_time    0.254092\n",
       "7               timestamp    0.091960\n",
       "1  current_num_invocation    0.046723\n",
       "4               real_time    0.045992\n",
       "5               user_time    0.045945\n",
       "8          current_minute    0.042571\n",
       "3            elapsed_time    0.040907\n",
       "0          num_invocation    0.017656"
      ]
     },
     "execution_count": 6,
     "metadata": {},
     "output_type": "execute_result"
    }
   ],
   "source": [
    "from sklearn.ensemble import RandomForestRegressor\n",
    "import numpy as np\n",
    "\n",
    "# Create a random forest Regressor\n",
    "model = RandomForestRegressor(n_estimators=100, random_state=0)\n",
    "\n",
    "X = df.drop(columns=['cpu_usage'])\n",
    "y = df['cpu_usage']\n",
    "\n",
    "# Train the model using the training sets\n",
    "model.fit(X, y)\n",
    "\n",
    "# Get the importance of the resulting features\n",
    "feature_importance = model.feature_importances_\n",
    "\n",
    "# Obtener los nombres de las características originales\n",
    "feature_names = X.columns\n",
    "\n",
    "# Crear un DataFrame con la importancia de las características junto con sus nombres\n",
    "feature_importance_df = pd.DataFrame({\n",
    "    'Feature': feature_names,\n",
    "    'Importance': feature_importance\n",
    "})\n",
    "\n",
    "# Ordenar por importancia de mayor a menor\n",
    "feature_importance_df = feature_importance_df.sort_values(by='Importance', ascending=False)\n",
    "\n",
    "# Mostrar el DataFrame con la importancia de las características\n",
    "feature_importance_df"
   ]
  },
  {
   "cell_type": "code",
   "execution_count": 7,
   "metadata": {},
   "outputs": [
    {
     "data": {
      "text/html": [
       "<div>\n",
       "<style scoped>\n",
       "    .dataframe tbody tr th:only-of-type {\n",
       "        vertical-align: middle;\n",
       "    }\n",
       "\n",
       "    .dataframe tbody tr th {\n",
       "        vertical-align: top;\n",
       "    }\n",
       "\n",
       "    .dataframe thead th {\n",
       "        text-align: right;\n",
       "    }\n",
       "</style>\n",
       "<table border=\"1\" class=\"dataframe\">\n",
       "  <thead>\n",
       "    <tr style=\"text-align: right;\">\n",
       "      <th></th>\n",
       "      <th>Feature</th>\n",
       "      <th>Importance</th>\n",
       "    </tr>\n",
       "  </thead>\n",
       "  <tbody>\n",
       "    <tr>\n",
       "      <th>6</th>\n",
       "      <td>cpu_usage</td>\n",
       "      <td>0.587583</td>\n",
       "    </tr>\n",
       "    <tr>\n",
       "      <th>5</th>\n",
       "      <td>user_time</td>\n",
       "      <td>0.164478</td>\n",
       "    </tr>\n",
       "    <tr>\n",
       "      <th>4</th>\n",
       "      <td>real_time</td>\n",
       "      <td>0.070555</td>\n",
       "    </tr>\n",
       "    <tr>\n",
       "      <th>7</th>\n",
       "      <td>timestamp</td>\n",
       "      <td>0.067816</td>\n",
       "    </tr>\n",
       "    <tr>\n",
       "      <th>3</th>\n",
       "      <td>elapsed_time</td>\n",
       "      <td>0.048777</td>\n",
       "    </tr>\n",
       "    <tr>\n",
       "      <th>2</th>\n",
       "      <td>wait_time</td>\n",
       "      <td>0.025255</td>\n",
       "    </tr>\n",
       "    <tr>\n",
       "      <th>8</th>\n",
       "      <td>current_minute</td>\n",
       "      <td>0.022774</td>\n",
       "    </tr>\n",
       "    <tr>\n",
       "      <th>1</th>\n",
       "      <td>current_num_invocation</td>\n",
       "      <td>0.006721</td>\n",
       "    </tr>\n",
       "    <tr>\n",
       "      <th>0</th>\n",
       "      <td>num_invocation</td>\n",
       "      <td>0.006040</td>\n",
       "    </tr>\n",
       "  </tbody>\n",
       "</table>\n",
       "</div>"
      ],
      "text/plain": [
       "                  Feature  Importance\n",
       "6               cpu_usage    0.587583\n",
       "5               user_time    0.164478\n",
       "4               real_time    0.070555\n",
       "7               timestamp    0.067816\n",
       "3            elapsed_time    0.048777\n",
       "2               wait_time    0.025255\n",
       "8          current_minute    0.022774\n",
       "1  current_num_invocation    0.006721\n",
       "0          num_invocation    0.006040"
      ]
     },
     "execution_count": 7,
     "metadata": {},
     "output_type": "execute_result"
    }
   ],
   "source": [
    "from sklearn.ensemble import RandomForestRegressor\n",
    "import numpy as np\n",
    "\n",
    "# Create a random forest Regressor\n",
    "model = RandomForestRegressor(n_estimators=100, random_state=0)\n",
    "\n",
    "X = df.drop(columns=['memory_usage'])\n",
    "y = df['memory_usage']\n",
    "\n",
    "# Train the model using the training sets\n",
    "model.fit(X, y)\n",
    "\n",
    "# Get the importance of the resulting features\n",
    "feature_importance = model.feature_importances_\n",
    "\n",
    "# Obtener los nombres de las características originales\n",
    "feature_names = X.columns\n",
    "\n",
    "# Crear un DataFrame con la importancia de las características junto con sus nombres\n",
    "feature_importance_df = pd.DataFrame({\n",
    "    'Feature': feature_names,\n",
    "    'Importance': feature_importance\n",
    "})\n",
    "\n",
    "# Ordenar por importancia de mayor a menor\n",
    "feature_importance_df = feature_importance_df.sort_values(by='Importance', ascending=False)\n",
    "\n",
    "# Mostrar el DataFrame con la importancia de las características\n",
    "feature_importance_df"
   ]
  },
  {
   "cell_type": "code",
   "execution_count": 3,
   "metadata": {},
   "outputs": [
    {
     "name": "stdout",
     "output_type": "stream",
     "text": [
      "i:  6\n"
     ]
    },
    {
     "data": {
      "text/plain": [
       "{'cpu_usage': 2.925585955768065, 'memory_usage': 7234834655.592164}"
      ]
     },
     "execution_count": 3,
     "metadata": {},
     "output_type": "execute_result"
    }
   ],
   "source": [
    "# Bayesian Optimization\n",
    "from bayes_opt import BayesianOptimization\n",
    "import numpy as np\n",
    "from bayes_opt.logger import JSONLogger\n",
    "from bayes_opt.event import Events\n",
    "\n",
    "logger_folder = '../log'\n",
    "max_iterations = 10\n",
    "start_iteration = 10\n",
    "\n",
    "\n",
    "X_real_time = df[['cpu_usage',\n",
    "               'memory_usage']]\n",
    "y_real_time = df['real_time']\n",
    "\n",
    "\n",
    "def objective_function_for_real_time(cpu_usage, memory_usage):\n",
    "    x = np.array([-1*int(cpu_usage), int(-1*memory_usage)])\n",
    "    closest_row_index = np.abs(np.abs(X_real_time - x)).sum(axis=1).argmin()\n",
    "\n",
    "    return y_real_time[closest_row_index]\n",
    "\n",
    "\n",
    "pbounds_for_real_time = {'cpu_usage': (0, df['cpu_usage'].max()), 'memory_usage': (\n",
    "    0, df['memory_usage'].max())}\n",
    "\n",
    "optimizer_real_time = BayesianOptimization(\n",
    "    f=objective_function_for_real_time,\n",
    "    pbounds=pbounds_for_real_time,\n",
    "    random_state=1,\n",
    ")\n",
    "\n",
    "logger_real_time = JSONLogger(\n",
    "    path=f\"{logger_folder}/{file_name}_for2_real_time.json\")\n",
    "optimizer_real_time.subscribe(Events.OPTIMIZATION_STEP, logger_real_time)\n",
    "\n",
    "\n",
    "last_max = None\n",
    "i = start_iteration\n",
    "while i <= max_iterations:\n",
    "    optimizer_real_time.maximize(\n",
    "        init_points=1,\n",
    "        n_iter=i,\n",
    "    )\n",
    "    if (last_max == None):\n",
    "        last_max = optimizer_real_time.max['target']\n",
    "    elif last_max - optimizer_real_time.max['target'] < error:\n",
    "        break\n",
    "    last_max = optimizer_real_time.max['target']\n",
    "    i += 1\n",
    "    print('i: ', i)\n",
    "\n",
    "# Obtener los resultados de la búsqueda\n",
    "optimizer_real_time.max['params']"
   ]
  },
  {
   "cell_type": "code",
   "execution_count": 17,
   "metadata": {},
   "outputs": [
    {
     "name": "stdout",
     "output_type": "stream",
     "text": [
      "   cpu_usage  memory_usage\n",
      "0   0.999666  1.010569e+09\n",
      "1   0.999666  1.010569e+09\n",
      "2   0.999666  1.010569e+09\n",
      "3   0.999666  1.010569e+09\n",
      "4   1.002080  1.010569e+09\n",
      "i:  6\n",
      "{}\n",
      "{'target': 64.661, 'params': {'cpu_usage': 1.128950238405146, 'memory_usage': 2676293392.431156}}\n"
     ]
    }
   ],
   "source": [
    "\n",
    "X_real_time = df[['cpu_usage',\n",
    "               'memory_usage']]\n",
    "y_real_time = df['real_time']\n",
    "\n",
    "\n",
    "def objective_function_for_real_time(cpu_usage, memory_usage):\n",
    "    x = np.array([-1*int(cpu_usage), int(-1*memory_usage)])\n",
    "    closest_row_index = np.abs(np.abs(X_real_time - x)).sum(axis=1).argmin()\n",
    "\n",
    "    return y_real_time[closest_row_index]\n",
    "\n",
    "\n",
    "pbounds_for_real_time = {'cpu_usage': (0, df['cpu_usage'].max()), 'memory_usage': (\n",
    "    0, df['memory_usage'].max())}\n",
    "\n",
    "optimizer_real_time = BayesianOptimization(\n",
    "    f=objective_function_for_real_time,\n",
    "    pbounds=pbounds_for_real_time,\n",
    "    random_state=1,\n",
    ")\n",
    "\n",
    "logger_real_time = JSONLogger(\n",
    "    path=f\"{logger_folder}/{file_name}_for_real_time.json\")\n",
    "optimizer_real_time.subscribe(Events.OPTIMIZATION_STEP, logger_real_time)\n",
    "\n",
    "\n",
    "last_max = None\n",
    "i = start_iteration\n",
    "while i <= max_iterations:\n",
    "    optimizer_real_time.maximize(\n",
    "        init_points=1,\n",
    "        n_iter=i,\n",
    "    )\n",
    "    if (last_max == None):\n",
    "        last_max = optimizer_real_time.max['target']\n",
    "    elif last_max - optimizer_real_time.max['target'] < error:\n",
    "        break\n",
    "    last_max = optimizer_real_time.max['target']\n",
    "    i += 1\n",
    "    print('i: ', i)\n",
    "\n",
    "# Obtener los resultados de la búsqueda\n",
    "print(optimizer_real_time.max)"
   ]
  },
  {
   "cell_type": "code",
   "execution_count": 31,
   "metadata": {},
   "outputs": [
    {
     "name": "stdout",
     "output_type": "stream",
     "text": [
      "Error al aplicar el archivo YAML function: Error: Get \"https://127.0.0.1:39627/apis/serving.knative.dev/v1/namespaces/blackscholes/services/blackscholes\": dial tcp 127.0.0.1:39627: connect: connection refused\n",
      "Run 'kn --help' for usage\n",
      "\n"
     ]
    }
   ],
   "source": [
    "import request_prometheus as req\n",
    "import resource_manage as resource_manage\n",
    "\n",
    "resource_manage.load_and_save_yaml(\n",
    "    \"function\", str(optimizer_cpu.max['target']*1000) + 'm', str(optimizer_memory.max['target']/(1024*1024)) + 'Mi')\n",
    "resource_manage.apply_yaml(\"function\")"
   ]
  },
  {
   "cell_type": "code",
   "execution_count": 32,
   "metadata": {},
   "outputs": [
    {
     "data": {
      "text/plain": [
       "<bayes_opt.bayesian_optimization.BayesianOptimization at 0x7f22969105b0>"
      ]
     },
     "execution_count": 32,
     "metadata": {},
     "output_type": "execute_result"
    }
   ],
   "source": [
    "# validate accuracy\n",
    "from sklearn.metrics import mean_squared_error\n",
    "from math import sqrt\n",
    "\n",
    "# Obtener los mejores parámetros encontrados\n",
    "\n",
    "optimizer_cpu\n",
    "optimizer_memory"
   ]
  },
  {
   "cell_type": "code",
   "execution_count": 33,
   "metadata": {},
   "outputs": [
    {
     "data": {
      "text/plain": [
       "<Figure size 1600x800 with 0 Axes>"
      ]
     },
     "execution_count": 33,
     "metadata": {},
     "output_type": "execute_result"
    },
    {
     "data": {
      "text/plain": [
       "<Figure size 1600x800 with 0 Axes>"
      ]
     },
     "metadata": {},
     "output_type": "display_data"
    }
   ],
   "source": [
    "# Crear gráficas\n",
    "plt.figure(figsize=(16, 8))"
   ]
  },
  {
   "cell_type": "code",
   "execution_count": 13,
   "metadata": {},
   "outputs": [
    {
     "data": {
      "image/png": "[encoded data removed]",
      "text/plain": [
       "<Figure size 640x480 with 1 Axes>"
      ]
     },
     "metadata": {},
     "output_type": "display_data"
    }
   ],
   "source": []
  },
  {
   "cell_type": "code",
   "execution_count": 34,
   "metadata": {},
   "outputs": [
    {
     "data": {
      "text/plain": [
       "Text(0.5, 1.0, 'Tiempo real vs CPU promedio')"
      ]
     },
     "execution_count": 34,
     "metadata": {},
     "output_type": "execute_result"
    },
    {
     "data": {
      "image/png": "[encoded data removed]",
      "text/plain": [
       "<Figure size 640x480 with 1 Axes>"
      ]
     },
     "metadata": {},
     "output_type": "display_data"
    }
   ],
   "source": [
    "# Gráfico de dispersión para la CPU promedio (avg_cpu_usage) por número de invocación\n",
    "plt.subplot(2, 2, 1)\n",
    "plt.plot(df['cpu_usage'], df['user_time'], 'o')\n",
    "plt.ylabel('Tiempo (s)')\n",
    "plt.xlabel('CPU')\n",
    "plt.title('Tiempo real vs CPU promedio')"
   ]
  },
  {
   "cell_type": "code",
   "execution_count": 35,
   "metadata": {},
   "outputs": [
    {
     "data": {
      "text/plain": [
       "Text(0, 0.5, 'CPU (%)')"
      ]
     },
     "execution_count": 35,
     "metadata": {},
     "output_type": "execute_result"
    },
    {
     "data": {
      "image/png": "[encoded data removed]",
      "text/plain": [
       "<Figure size 640x480 with 1 Axes>"
      ]
     },
     "metadata": {},
     "output_type": "display_data"
    }
   ],
   "source": [
    "# avg_cpu_usage por número de invocación\n",
    "plt.subplot(2, 2, 1)\n",
    "plt.plot(df['elapsed_time'], df['cpu_usage'], 'o')\n",
    "plt.title('Tiempo de espera')\n",
    "plt.xlabel('Tiempo real (s)')\n",
    "plt.ylabel('CPU (%)')\n"
   ]
  },
  {
   "cell_type": "code",
   "execution_count": 36,
   "metadata": {},
   "outputs": [
    {
     "data": {
      "text/plain": [
       "Text(0, 0.5, 'Tiempo de espera')"
      ]
     },
     "execution_count": 36,
     "metadata": {},
     "output_type": "execute_result"
    },
    {
     "data": {
      "image/png": "[encoded data removed]",
      "text/plain": [
       "<Figure size 640x480 with 1 Axes>"
      ]
     },
     "metadata": {},
     "output_type": "display_data"
    }
   ],
   "source": [
    "# Gráfica de espera (wait_time)\n",
    "plt.subplot(2, 2, 1)\n",
    "plt.plot(df['current_num_invocation'], df['wait_time'], marker='o')\n",
    "plt.title('Tiempo de espera')\n",
    "plt.xlabel('Número de invocación')\n",
    "plt.ylabel('Tiempo de espera')"
   ]
  },
  {
   "cell_type": "code",
   "execution_count": 37,
   "metadata": {},
   "outputs": [
    {
     "data": {
      "text/plain": [
       "Text(0, 0.5, 'Tiempo de espera')"
      ]
     },
     "execution_count": 37,
     "metadata": {},
     "output_type": "execute_result"
    },
    {
     "data": {
      "image/png": "[encoded data removed]",
      "text/plain": [
       "<Figure size 640x480 with 1 Axes>"
      ]
     },
     "metadata": {},
     "output_type": "display_data"
    }
   ],
   "source": [
    "# Gráfica de espera (wait_time)\n",
    "plt.subplot(2, 2, 1)\n",
    "plt.plot(df['current_num_invocation'], df['elapsed_time'], marker='o')\n",
    "plt.title('Tiempo de espera')\n",
    "plt.xlabel('Número de invocación')\n",
    "plt.ylabel('Tiempo de espera')"
   ]
  },
  {
   "cell_type": "code",
   "execution_count": 38,
   "metadata": {},
   "outputs": [
    {
     "data": {
      "text/plain": [
       "Text(0, 0.5, 'Tiempo transcurrido')"
      ]
     },
     "execution_count": 38,
     "metadata": {},
     "output_type": "execute_result"
    },
    {
     "data": {
      "image/png": "[encoded data removed]",
      "text/plain": [
       "<Figure size 640x480 with 1 Axes>"
      ]
     },
     "metadata": {},
     "output_type": "display_data"
    }
   ],
   "source": [
    "# Gráfica de tiempo transcurrido (elapsed_time)\n",
    "plt.subplot(2, 2, 2)\n",
    "plt.plot(df['num_invocation'], df['elapsed_time'], marker='o')\n",
    "plt.title('Tiempo transcurrido')\n",
    "plt.xlabel('Número de invocación')\n",
    "plt.ylabel('Tiempo transcurrido')"
   ]
  },
  {
   "cell_type": "code",
   "execution_count": 39,
   "metadata": {},
   "outputs": [
    {
     "data": {
      "text/plain": [
       "Text(0, 0.5, 'Tiempo real')"
      ]
     },
     "execution_count": 39,
     "metadata": {},
     "output_type": "execute_result"
    },
    {
     "data": {
      "image/png": "[encoded data removed]",
      "text/plain": [
       "<Figure size 640x480 with 1 Axes>"
      ]
     },
     "metadata": {},
     "output_type": "display_data"
    }
   ],
   "source": [
    "# Gráfica de tiempo real (real_time)\n",
    "plt.subplot(2, 2, 3)\n",
    "plt.plot(df['num_invocation'], df['real_time'], marker='o')\n",
    "plt.title('Tiempo real')\n",
    "plt.xlabel('Número de invocación')\n",
    "plt.ylabel('Tiempo real')"
   ]
  },
  {
   "cell_type": "code",
   "execution_count": 40,
   "metadata": {},
   "outputs": [
    {
     "data": {
      "text/plain": [
       "Text(0, 0.5, 'Tiempo de usuario')"
      ]
     },
     "execution_count": 40,
     "metadata": {},
     "output_type": "execute_result"
    },
    {
     "data": {
      "image/png": "[encoded data removed]",
      "text/plain": [
       "<Figure size 640x480 with 1 Axes>"
      ]
     },
     "metadata": {},
     "output_type": "display_data"
    }
   ],
   "source": [
    "# Gráfica de tiempo de usuario (user_time)\n",
    "plt.subplot(2, 2, 4)\n",
    "plt.plot(df['num_invocation'], df['user_time'], marker='o')\n",
    "plt.title('Tiempo de usuario')\n",
    "plt.xlabel('Número de invocación')\n",
    "plt.ylabel('Tiempo de usuario')"
   ]
  },
  {
   "cell_type": "code",
   "execution_count": 41,
   "metadata": {},
   "outputs": [
    {
     "data": {
      "text/plain": [
       "<Figure size 640x480 with 0 Axes>"
      ]
     },
     "metadata": {},
     "output_type": "display_data"
    }
   ],
   "source": [
    "\n",
    "# Ajustar el diseño\n",
    "plt.tight_layout()"
   ]
  }
 ],
 "metadata": {
  "kernelspec": {
   "display_name": "Python 3",
   "language": "python",
   "name": "python3"
  },
  "language_info": {
   "codemirror_mode": {
    "name": "ipython",
    "version": 3
   },
   "file_extension": ".py",
   "mimetype": "text/x-python",
   "name": "python",
   "nbconvert_exporter": "python",
   "pygments_lexer": "ipython3",
   "version": "3.10.12"
  }
 },
 "nbformat": 4,
 "nbformat_minor": 2
}
