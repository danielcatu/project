{
 "cells": [
  {
   "cell_type": "code",
   "execution_count": 2,
   "metadata": {},
   "outputs": [],
   "source": [
    "import pandas as pd"
   ]
  },
  {
   "cell_type": "code",
   "execution_count": null,
   "metadata": {},
   "outputs": [],
   "source": [
    "# all_data = []\n",
    "# for i in range(1, 15):\n",
    "#     filename = f'./dataset/invocations_per_function_md.anon.d{i:02}.csv'\n",
    "#     data = pd.read_csv(filename)\n",
    "#     data['Day'] = f'{i}'\n",
    "#     all_data.append(data)\n",
    "# combined_data = pd.concat(all_data)\n",
    "# combined_data.to_csv('invocations_per_function.csv', index=False)"
   ]
  },
  {
   "cell_type": "code",
   "execution_count": 7,
   "metadata": {},
   "outputs": [
    {
     "name": "stderr",
     "output_type": "stream",
     "text": [
      "/tmp/ipykernel_5918/2380195808.py:3: DtypeWarning: Columns (1) have mixed types. Specify dtype option on import or set low_memory=False.\n",
      "  df = pd.read_csv(filename)\n"
     ]
    }
   ],
   "source": [
    "day = 1\n",
    "filename = f'./invocations_per_minute_651a93714e15b730de60.csv'\n",
    "df = pd.read_csv(filename)"
   ]
  },
  {
   "cell_type": "code",
   "execution_count": 4,
   "metadata": {},
   "outputs": [
    {
     "data": {
      "text/html": [
       "<div>\n",
       "<style scoped>\n",
       "    .dataframe tbody tr th:only-of-type {\n",
       "        vertical-align: middle;\n",
       "    }\n",
       "\n",
       "    .dataframe tbody tr th {\n",
       "        vertical-align: top;\n",
       "    }\n",
       "\n",
       "    .dataframe thead th {\n",
       "        text-align: right;\n",
       "    }\n",
       "</style>\n",
       "<table border=\"1\" class=\"dataframe\">\n",
       "  <thead>\n",
       "    <tr style=\"text-align: right;\">\n",
       "      <th></th>\n",
       "      <th>HashFunction</th>\n",
       "      <th>Day</th>\n",
       "      <th>Minute</th>\n",
       "      <th>NumInvocations</th>\n",
       "    </tr>\n",
       "  </thead>\n",
       "  <tbody>\n",
       "    <tr>\n",
       "      <th>0</th>\n",
       "      <td>HashFunction</td>\n",
       "      <td>Day</td>\n",
       "      <td>0</td>\n",
       "      <td>1</td>\n",
       "    </tr>\n",
       "    <tr>\n",
       "      <th>1</th>\n",
       "      <td>2da3bf979c44a1f9be02a97b3ef2f21612e31ab3f324ae...</td>\n",
       "      <td>1</td>\n",
       "      <td>0</td>\n",
       "      <td>0</td>\n",
       "    </tr>\n",
       "    <tr>\n",
       "      <th>2</th>\n",
       "      <td>d7a50182d7424b9ab0acefe2ac9787c80d01233b6c8fbf...</td>\n",
       "      <td>1</td>\n",
       "      <td>0</td>\n",
       "      <td>0</td>\n",
       "    </tr>\n",
       "    <tr>\n",
       "      <th>3</th>\n",
       "      <td>a291c21041ecaf0ab3d67dfde237e9cbefbec6e9a94708...</td>\n",
       "      <td>1</td>\n",
       "      <td>0</td>\n",
       "      <td>0</td>\n",
       "    </tr>\n",
       "    <tr>\n",
       "      <th>4</th>\n",
       "      <td>624cb73bdf5b6a37a20a04a7d76fbaa4c3f0245ff98fe8...</td>\n",
       "      <td>1</td>\n",
       "      <td>0</td>\n",
       "      <td>0</td>\n",
       "    </tr>\n",
       "  </tbody>\n",
       "</table>\n",
       "</div>"
      ],
      "text/plain": [
       "                                        HashFunction  Day  Minute  \\\n",
       "0                                       HashFunction  Day       0   \n",
       "1  2da3bf979c44a1f9be02a97b3ef2f21612e31ab3f324ae...    1       0   \n",
       "2  d7a50182d7424b9ab0acefe2ac9787c80d01233b6c8fbf...    1       0   \n",
       "3  a291c21041ecaf0ab3d67dfde237e9cbefbec6e9a94708...    1       0   \n",
       "4  624cb73bdf5b6a37a20a04a7d76fbaa4c3f0245ff98fe8...    1       0   \n",
       "\n",
       "   NumInvocations  \n",
       "0               1  \n",
       "1               0  \n",
       "2               0  \n",
       "3               0  \n",
       "4               0  "
      ]
     },
     "execution_count": 4,
     "metadata": {},
     "output_type": "execute_result"
    }
   ],
   "source": [
    "df.head()"
   ]
  },
  {
   "cell_type": "code",
   "execution_count": 25,
   "metadata": {},
   "outputs": [
    {
     "data": {
      "text/plain": [
       "<pandas.core.groupby.generic.DataFrameGroupBy object at 0x7f2287043d30>"
      ]
     },
     "execution_count": 25,
     "metadata": {},
     "output_type": "execute_result"
    }
   ],
   "source": [
    "df.groupby(['HashFunction', 'NumInvocations', 'Day'])"
   ]
  },
  {
   "cell_type": "code",
   "execution_count": 26,
   "metadata": {},
   "outputs": [
    {
     "name": "stdout",
     "output_type": "stream",
     "text": [
      "      Day                                       HashFunction  NumInvocations\n",
      "0       2  0088b29a10b544a147ca2becf3c45276c485bbd339038b...               4\n",
      "1       2  0143e27e85dac57ecadac6c734bdf4e38b7155f4342f08...               1\n",
      "2       2  028a78d92c1de38311f731e4bc234af4e375427f257ff4...               6\n",
      "3       2  02f90bbcc0f20281fddbb5527acb7d2b6abda38f1dd85a...               8\n",
      "4       2  03168fdd6a7c77b649fa8e0c0428e878804d5404a9d0dc...               5\n",
      "...   ...                                                ...             ...\n",
      "1289    3  fc8f7b450febfca02b7874218dbabc9629dc824e38819e...               0\n",
      "1290    3  fe30b7a6e29a467df3b931686e348513c44b3a6436183a...               2\n",
      "1291    3  ff3cf735e33ed55d1aa1334cee587b6e7845d9dbbed162...               0\n",
      "1292    3  ff4c77decfef6bbc45b395c925732c656a30146017bd06...               0\n",
      "1293  Day                                       HashFunction         1037520\n",
      "\n",
      "[1294 rows x 3 columns]\n"
     ]
    }
   ],
   "source": [
    "grouped_data = df.groupby(['Day', 'HashFunction'])[\n",
    "    'NumInvocations'].sum().reset_index()\n",
    "print(grouped_data)"
   ]
  },
  {
   "cell_type": "code",
   "execution_count": 47,
   "metadata": {},
   "outputs": [],
   "source": [
    "grouped_data = df.groupby(['Day', 'HashFunction']).agg(\n",
    "    Total_NumInvocations=('NumInvocations', 'count'),\n",
    "    NumInvocations_Zero=('NumInvocations', lambda x: (x == 0).sum())\n",
    ").reset_index().sort_values(by='NumInvocations_Zero', ascending=True).head(10)\n",
    "\n",
    "candidates = grouped_data[grouped_data[\"Total_NumInvocations\"] == 1440]"
   ]
  },
  {
   "cell_type": "code",
   "execution_count": 57,
   "metadata": {},
   "outputs": [
    {
     "data": {
      "text/plain": [
       "'a3a36e205b11f1d7708058af16237c0634832db061d73a7be28c936fc3125855'"
      ]
     },
     "execution_count": 57,
     "metadata": {},
     "output_type": "execute_result"
    }
   ],
   "source": [
    "candidates[2::][\"HashFunction\"][920]"
   ]
  },
  {
   "cell_type": "code",
   "execution_count": 95,
   "metadata": {},
   "outputs": [],
   "source": [
    "hash_name = 'a3a36e205b11f1d7708058af16237c0634832db061d73a7be28c936fc3125855'\n",
    "dataset = df[df[\"HashFunction\"] == hash_name]"
   ]
  },
  {
   "cell_type": "code",
   "execution_count": 98,
   "metadata": {},
   "outputs": [
    {
     "data": {
      "text/plain": [
       "HashFunction      object\n",
       "Day                int64\n",
       "Minute             int64\n",
       "NumInvocations     int64\n",
       "dtype: object"
      ]
     },
     "execution_count": 98,
     "metadata": {},
     "output_type": "execute_result"
    }
   ],
   "source": [
    "dataset.dtypes"
   ]
  },
  {
   "cell_type": "code",
   "execution_count": 97,
   "metadata": {},
   "outputs": [
    {
     "name": "stderr",
     "output_type": "stream",
     "text": [
      "/tmp/ipykernel_5918/2538695863.py:1: SettingWithCopyWarning: \n",
      "A value is trying to be set on a copy of a slice from a DataFrame.\n",
      "Try using .loc[row_indexer,col_indexer] = value instead\n",
      "\n",
      "See the caveats in the documentation: https://pandas.pydata.org/pandas-docs/stable/user_guide/indexing.html#returning-a-view-versus-a-copy\n",
      "  dataset['Day'] = dataset['Day'].astype('int64')\n"
     ]
    }
   ],
   "source": [
    "dataset['Day'] = dataset['Day'].astype('int64')"
   ]
  },
  {
   "cell_type": "code",
   "execution_count": 99,
   "metadata": {},
   "outputs": [
    {
     "data": {
      "text/html": [
       "<div>\n",
       "<style scoped>\n",
       "    .dataframe tbody tr th:only-of-type {\n",
       "        vertical-align: middle;\n",
       "    }\n",
       "\n",
       "    .dataframe tbody tr th {\n",
       "        vertical-align: top;\n",
       "    }\n",
       "\n",
       "    .dataframe thead th {\n",
       "        text-align: right;\n",
       "    }\n",
       "</style>\n",
       "<table border=\"1\" class=\"dataframe\">\n",
       "  <thead>\n",
       "    <tr style=\"text-align: right;\">\n",
       "      <th></th>\n",
       "      <th>HashFunction</th>\n",
       "      <th>Day</th>\n",
       "      <th>Minute</th>\n",
       "      <th>NumInvocations</th>\n",
       "    </tr>\n",
       "  </thead>\n",
       "  <tbody>\n",
       "    <tr>\n",
       "      <th>82</th>\n",
       "      <td>a3a36e205b11f1d7708058af16237c0634832db061d73a...</td>\n",
       "      <td>1</td>\n",
       "      <td>0</td>\n",
       "      <td>1</td>\n",
       "    </tr>\n",
       "    <tr>\n",
       "      <th>492994</th>\n",
       "      <td>a3a36e205b11f1d7708058af16237c0634832db061d73a...</td>\n",
       "      <td>1</td>\n",
       "      <td>1141</td>\n",
       "      <td>1</td>\n",
       "    </tr>\n",
       "    <tr>\n",
       "      <th>257986</th>\n",
       "      <td>a3a36e205b11f1d7708058af16237c0634832db061d73a...</td>\n",
       "      <td>1</td>\n",
       "      <td>597</td>\n",
       "      <td>2</td>\n",
       "    </tr>\n",
       "    <tr>\n",
       "      <th>257554</th>\n",
       "      <td>a3a36e205b11f1d7708058af16237c0634832db061d73a...</td>\n",
       "      <td>1</td>\n",
       "      <td>596</td>\n",
       "      <td>3</td>\n",
       "    </tr>\n",
       "    <tr>\n",
       "      <th>493426</th>\n",
       "      <td>a3a36e205b11f1d7708058af16237c0634832db061d73a...</td>\n",
       "      <td>1</td>\n",
       "      <td>1142</td>\n",
       "      <td>2</td>\n",
       "    </tr>\n",
       "    <tr>\n",
       "      <th>...</th>\n",
       "      <td>...</td>\n",
       "      <td>...</td>\n",
       "      <td>...</td>\n",
       "      <td>...</td>\n",
       "    </tr>\n",
       "    <tr>\n",
       "      <th>827023</th>\n",
       "      <td>a3a36e205b11f1d7708058af16237c0634832db061d73a...</td>\n",
       "      <td>3</td>\n",
       "      <td>475</td>\n",
       "      <td>2</td>\n",
       "    </tr>\n",
       "    <tr>\n",
       "      <th>826592</th>\n",
       "      <td>a3a36e205b11f1d7708058af16237c0634832db061d73a...</td>\n",
       "      <td>3</td>\n",
       "      <td>474</td>\n",
       "      <td>2</td>\n",
       "    </tr>\n",
       "    <tr>\n",
       "      <th>826161</th>\n",
       "      <td>a3a36e205b11f1d7708058af16237c0634832db061d73a...</td>\n",
       "      <td>3</td>\n",
       "      <td>473</td>\n",
       "      <td>2</td>\n",
       "    </tr>\n",
       "    <tr>\n",
       "      <th>825299</th>\n",
       "      <td>a3a36e205b11f1d7708058af16237c0634832db061d73a...</td>\n",
       "      <td>3</td>\n",
       "      <td>471</td>\n",
       "      <td>2</td>\n",
       "    </tr>\n",
       "    <tr>\n",
       "      <th>1242507</th>\n",
       "      <td>a3a36e205b11f1d7708058af16237c0634832db061d73a...</td>\n",
       "      <td>3</td>\n",
       "      <td>1439</td>\n",
       "      <td>2</td>\n",
       "    </tr>\n",
       "  </tbody>\n",
       "</table>\n",
       "<p>4320 rows × 4 columns</p>\n",
       "</div>"
      ],
      "text/plain": [
       "                                              HashFunction  Day  Minute  \\\n",
       "82       a3a36e205b11f1d7708058af16237c0634832db061d73a...    1       0   \n",
       "492994   a3a36e205b11f1d7708058af16237c0634832db061d73a...    1    1141   \n",
       "257986   a3a36e205b11f1d7708058af16237c0634832db061d73a...    1     597   \n",
       "257554   a3a36e205b11f1d7708058af16237c0634832db061d73a...    1     596   \n",
       "493426   a3a36e205b11f1d7708058af16237c0634832db061d73a...    1    1142   \n",
       "...                                                    ...  ...     ...   \n",
       "827023   a3a36e205b11f1d7708058af16237c0634832db061d73a...    3     475   \n",
       "826592   a3a36e205b11f1d7708058af16237c0634832db061d73a...    3     474   \n",
       "826161   a3a36e205b11f1d7708058af16237c0634832db061d73a...    3     473   \n",
       "825299   a3a36e205b11f1d7708058af16237c0634832db061d73a...    3     471   \n",
       "1242507  a3a36e205b11f1d7708058af16237c0634832db061d73a...    3    1439   \n",
       "\n",
       "         NumInvocations  \n",
       "82                    1  \n",
       "492994                1  \n",
       "257986                2  \n",
       "257554                3  \n",
       "493426                2  \n",
       "...                 ...  \n",
       "827023                2  \n",
       "826592                2  \n",
       "826161                2  \n",
       "825299                2  \n",
       "1242507               2  \n",
       "\n",
       "[4320 rows x 4 columns]"
      ]
     },
     "execution_count": 99,
     "metadata": {},
     "output_type": "execute_result"
    }
   ],
   "source": [
    "dataset = dataset.sort_values(by='Day', ascending=True)\n",
    "dataset"
   ]
  },
  {
   "cell_type": "code",
   "execution_count": 100,
   "metadata": {},
   "outputs": [
    {
     "data": {
      "text/html": [
       "<div>\n",
       "<style scoped>\n",
       "    .dataframe tbody tr th:only-of-type {\n",
       "        vertical-align: middle;\n",
       "    }\n",
       "\n",
       "    .dataframe tbody tr th {\n",
       "        vertical-align: top;\n",
       "    }\n",
       "\n",
       "    .dataframe thead th {\n",
       "        text-align: right;\n",
       "    }\n",
       "</style>\n",
       "<table border=\"1\" class=\"dataframe\">\n",
       "  <thead>\n",
       "    <tr style=\"text-align: right;\">\n",
       "      <th></th>\n",
       "      <th>HashFunction</th>\n",
       "      <th>Day</th>\n",
       "      <th>Minute</th>\n",
       "      <th>NumInvocations</th>\n",
       "    </tr>\n",
       "  </thead>\n",
       "  <tbody>\n",
       "    <tr>\n",
       "      <th>82</th>\n",
       "      <td>a3a36e205b11f1d7708058af16237c0634832db061d73a...</td>\n",
       "      <td>1</td>\n",
       "      <td>0</td>\n",
       "      <td>1</td>\n",
       "    </tr>\n",
       "    <tr>\n",
       "      <th>514</th>\n",
       "      <td>a3a36e205b11f1d7708058af16237c0634832db061d73a...</td>\n",
       "      <td>1</td>\n",
       "      <td>1</td>\n",
       "      <td>2</td>\n",
       "    </tr>\n",
       "    <tr>\n",
       "      <th>946</th>\n",
       "      <td>a3a36e205b11f1d7708058af16237c0634832db061d73a...</td>\n",
       "      <td>1</td>\n",
       "      <td>2</td>\n",
       "      <td>3</td>\n",
       "    </tr>\n",
       "    <tr>\n",
       "      <th>1378</th>\n",
       "      <td>a3a36e205b11f1d7708058af16237c0634832db061d73a...</td>\n",
       "      <td>1</td>\n",
       "      <td>3</td>\n",
       "      <td>1</td>\n",
       "    </tr>\n",
       "    <tr>\n",
       "      <th>1810</th>\n",
       "      <td>a3a36e205b11f1d7708058af16237c0634832db061d73a...</td>\n",
       "      <td>1</td>\n",
       "      <td>4</td>\n",
       "      <td>3</td>\n",
       "    </tr>\n",
       "    <tr>\n",
       "      <th>...</th>\n",
       "      <td>...</td>\n",
       "      <td>...</td>\n",
       "      <td>...</td>\n",
       "      <td>...</td>\n",
       "    </tr>\n",
       "    <tr>\n",
       "      <th>1240783</th>\n",
       "      <td>a3a36e205b11f1d7708058af16237c0634832db061d73a...</td>\n",
       "      <td>3</td>\n",
       "      <td>1435</td>\n",
       "      <td>2</td>\n",
       "    </tr>\n",
       "    <tr>\n",
       "      <th>1241214</th>\n",
       "      <td>a3a36e205b11f1d7708058af16237c0634832db061d73a...</td>\n",
       "      <td>3</td>\n",
       "      <td>1436</td>\n",
       "      <td>2</td>\n",
       "    </tr>\n",
       "    <tr>\n",
       "      <th>1241645</th>\n",
       "      <td>a3a36e205b11f1d7708058af16237c0634832db061d73a...</td>\n",
       "      <td>3</td>\n",
       "      <td>1437</td>\n",
       "      <td>2</td>\n",
       "    </tr>\n",
       "    <tr>\n",
       "      <th>1242076</th>\n",
       "      <td>a3a36e205b11f1d7708058af16237c0634832db061d73a...</td>\n",
       "      <td>3</td>\n",
       "      <td>1438</td>\n",
       "      <td>2</td>\n",
       "    </tr>\n",
       "    <tr>\n",
       "      <th>1242507</th>\n",
       "      <td>a3a36e205b11f1d7708058af16237c0634832db061d73a...</td>\n",
       "      <td>3</td>\n",
       "      <td>1439</td>\n",
       "      <td>2</td>\n",
       "    </tr>\n",
       "  </tbody>\n",
       "</table>\n",
       "<p>4320 rows × 4 columns</p>\n",
       "</div>"
      ],
      "text/plain": [
       "                                              HashFunction  Day  Minute  \\\n",
       "82       a3a36e205b11f1d7708058af16237c0634832db061d73a...    1       0   \n",
       "514      a3a36e205b11f1d7708058af16237c0634832db061d73a...    1       1   \n",
       "946      a3a36e205b11f1d7708058af16237c0634832db061d73a...    1       2   \n",
       "1378     a3a36e205b11f1d7708058af16237c0634832db061d73a...    1       3   \n",
       "1810     a3a36e205b11f1d7708058af16237c0634832db061d73a...    1       4   \n",
       "...                                                    ...  ...     ...   \n",
       "1240783  a3a36e205b11f1d7708058af16237c0634832db061d73a...    3    1435   \n",
       "1241214  a3a36e205b11f1d7708058af16237c0634832db061d73a...    3    1436   \n",
       "1241645  a3a36e205b11f1d7708058af16237c0634832db061d73a...    3    1437   \n",
       "1242076  a3a36e205b11f1d7708058af16237c0634832db061d73a...    3    1438   \n",
       "1242507  a3a36e205b11f1d7708058af16237c0634832db061d73a...    3    1439   \n",
       "\n",
       "         NumInvocations  \n",
       "82                    1  \n",
       "514                   2  \n",
       "946                   3  \n",
       "1378                  1  \n",
       "1810                  3  \n",
       "...                 ...  \n",
       "1240783               2  \n",
       "1241214               2  \n",
       "1241645               2  \n",
       "1242076               2  \n",
       "1242507               2  \n",
       "\n",
       "[4320 rows x 4 columns]"
      ]
     },
     "execution_count": 100,
     "metadata": {},
     "output_type": "execute_result"
    }
   ],
   "source": [
    "dataset=dataset.sort_values(\n",
    "    by=['Day', 'Minute'], ascending=[True, True])\n",
    "dataset"
   ]
  },
  {
   "cell_type": "code",
   "execution_count": 101,
   "metadata": {},
   "outputs": [],
   "source": [
    "dataset.to_csv(\n",
    "    f'./HashFunction.csv', index=False)"
   ]
  },
  {
   "cell_type": "code",
   "execution_count": null,
   "metadata": {},
   "outputs": [],
   "source": [
    "functions = df.agg({'NumInvocations': 'sum'}).sort_values(\n",
    "    by='NumInvocations', ascending=False).head(10).reset_index()\n",
    "# Print the name of the function and the sum of invocations\n",
    "for function, data in functions:\n",
    "    print(function, data['NumInvocations'].sum())"
   ]
  },
  {
   "cell_type": "code",
   "execution_count": 5,
   "metadata": {},
   "outputs": [
    {
     "ename": "KeyError",
     "evalue": "'HashOwner'",
     "output_type": "error",
     "traceback": [
      "\u001b[0;31m---------------------------------------------------------------------------\u001b[0m",
      "\u001b[0;31mKeyError\u001b[0m                                  Traceback (most recent call last)",
      "\u001b[1;32m/home/danielcatu/documents/tesis/project/Azure/dataset_explore.ipynb Cell 5\u001b[0m line \u001b[0;36m1\n\u001b[0;32m----> <a href='vscode-notebook-cell://wsl%2Bubuntu/home/danielcatu/documents/tesis/project/Azure/dataset_explore.ipynb#W4sdnNjb2RlLXJlbW90ZQ%3D%3D?line=0'>1</a>\u001b[0m apps \u001b[39m=\u001b[39m df\u001b[39m.\u001b[39;49mgroupby([\u001b[39m'\u001b[39;49m\u001b[39mHashOwner\u001b[39;49m\u001b[39m'\u001b[39;49m, \u001b[39m'\u001b[39;49m\u001b[39mHashApp\u001b[39;49m\u001b[39m'\u001b[39;49m])\n",
      "File \u001b[0;32m~/.local/lib/python3.10/site-packages/pandas/core/frame.py:8869\u001b[0m, in \u001b[0;36mDataFrame.groupby\u001b[0;34m(self, by, axis, level, as_index, sort, group_keys, observed, dropna)\u001b[0m\n\u001b[1;32m   8866\u001b[0m \u001b[39mif\u001b[39;00m level \u001b[39mis\u001b[39;00m \u001b[39mNone\u001b[39;00m \u001b[39mand\u001b[39;00m by \u001b[39mis\u001b[39;00m \u001b[39mNone\u001b[39;00m:\n\u001b[1;32m   8867\u001b[0m     \u001b[39mraise\u001b[39;00m \u001b[39mTypeError\u001b[39;00m(\u001b[39m\"\u001b[39m\u001b[39mYou have to supply one of \u001b[39m\u001b[39m'\u001b[39m\u001b[39mby\u001b[39m\u001b[39m'\u001b[39m\u001b[39m and \u001b[39m\u001b[39m'\u001b[39m\u001b[39mlevel\u001b[39m\u001b[39m'\u001b[39m\u001b[39m\"\u001b[39m)\n\u001b[0;32m-> 8869\u001b[0m \u001b[39mreturn\u001b[39;00m DataFrameGroupBy(\n\u001b[1;32m   8870\u001b[0m     obj\u001b[39m=\u001b[39;49m\u001b[39mself\u001b[39;49m,\n\u001b[1;32m   8871\u001b[0m     keys\u001b[39m=\u001b[39;49mby,\n\u001b[1;32m   8872\u001b[0m     axis\u001b[39m=\u001b[39;49maxis,\n\u001b[1;32m   8873\u001b[0m     level\u001b[39m=\u001b[39;49mlevel,\n\u001b[1;32m   8874\u001b[0m     as_index\u001b[39m=\u001b[39;49mas_index,\n\u001b[1;32m   8875\u001b[0m     sort\u001b[39m=\u001b[39;49msort,\n\u001b[1;32m   8876\u001b[0m     group_keys\u001b[39m=\u001b[39;49mgroup_keys,\n\u001b[1;32m   8877\u001b[0m     observed\u001b[39m=\u001b[39;49mobserved,\n\u001b[1;32m   8878\u001b[0m     dropna\u001b[39m=\u001b[39;49mdropna,\n\u001b[1;32m   8879\u001b[0m )\n",
      "File \u001b[0;32m~/.local/lib/python3.10/site-packages/pandas/core/groupby/groupby.py:1278\u001b[0m, in \u001b[0;36mGroupBy.__init__\u001b[0;34m(self, obj, keys, axis, level, grouper, exclusions, selection, as_index, sort, group_keys, observed, dropna)\u001b[0m\n\u001b[1;32m   1275\u001b[0m \u001b[39mself\u001b[39m\u001b[39m.\u001b[39mdropna \u001b[39m=\u001b[39m dropna\n\u001b[1;32m   1277\u001b[0m \u001b[39mif\u001b[39;00m grouper \u001b[39mis\u001b[39;00m \u001b[39mNone\u001b[39;00m:\n\u001b[0;32m-> 1278\u001b[0m     grouper, exclusions, obj \u001b[39m=\u001b[39m get_grouper(\n\u001b[1;32m   1279\u001b[0m         obj,\n\u001b[1;32m   1280\u001b[0m         keys,\n\u001b[1;32m   1281\u001b[0m         axis\u001b[39m=\u001b[39;49maxis,\n\u001b[1;32m   1282\u001b[0m         level\u001b[39m=\u001b[39;49mlevel,\n\u001b[1;32m   1283\u001b[0m         sort\u001b[39m=\u001b[39;49msort,\n\u001b[1;32m   1284\u001b[0m         observed\u001b[39m=\u001b[39;49m\u001b[39mFalse\u001b[39;49;00m \u001b[39mif\u001b[39;49;00m observed \u001b[39mis\u001b[39;49;00m lib\u001b[39m.\u001b[39;49mno_default \u001b[39melse\u001b[39;49;00m observed,\n\u001b[1;32m   1285\u001b[0m         dropna\u001b[39m=\u001b[39;49m\u001b[39mself\u001b[39;49m\u001b[39m.\u001b[39;49mdropna,\n\u001b[1;32m   1286\u001b[0m     )\n\u001b[1;32m   1288\u001b[0m \u001b[39mif\u001b[39;00m observed \u001b[39mis\u001b[39;00m lib\u001b[39m.\u001b[39mno_default:\n\u001b[1;32m   1289\u001b[0m     \u001b[39mif\u001b[39;00m \u001b[39many\u001b[39m(ping\u001b[39m.\u001b[39m_passed_categorical \u001b[39mfor\u001b[39;00m ping \u001b[39min\u001b[39;00m grouper\u001b[39m.\u001b[39mgroupings):\n",
      "File \u001b[0;32m~/.local/lib/python3.10/site-packages/pandas/core/groupby/grouper.py:1009\u001b[0m, in \u001b[0;36mget_grouper\u001b[0;34m(obj, key, axis, level, sort, observed, validate, dropna)\u001b[0m\n\u001b[1;32m   1007\u001b[0m         in_axis, level, gpr \u001b[39m=\u001b[39m \u001b[39mFalse\u001b[39;00m, gpr, \u001b[39mNone\u001b[39;00m\n\u001b[1;32m   1008\u001b[0m     \u001b[39melse\u001b[39;00m:\n\u001b[0;32m-> 1009\u001b[0m         \u001b[39mraise\u001b[39;00m \u001b[39mKeyError\u001b[39;00m(gpr)\n\u001b[1;32m   1010\u001b[0m \u001b[39melif\u001b[39;00m \u001b[39misinstance\u001b[39m(gpr, Grouper) \u001b[39mand\u001b[39;00m gpr\u001b[39m.\u001b[39mkey \u001b[39mis\u001b[39;00m \u001b[39mnot\u001b[39;00m \u001b[39mNone\u001b[39;00m:\n\u001b[1;32m   1011\u001b[0m     \u001b[39m# Add key to exclusions\u001b[39;00m\n\u001b[1;32m   1012\u001b[0m     exclusions\u001b[39m.\u001b[39madd(gpr\u001b[39m.\u001b[39mkey)\n",
      "\u001b[0;31mKeyError\u001b[0m: 'HashOwner'"
     ]
    }
   ],
   "source": [
    "apps = df.groupby(['HashOwner', 'HashApp'])"
   ]
  },
  {
   "cell_type": "code",
   "execution_count": 6,
   "metadata": {},
   "outputs": [],
   "source": [
    "import hashlib"
   ]
  },
  {
   "cell_type": "code",
   "execution_count": 7,
   "metadata": {},
   "outputs": [],
   "source": [
    "for app, app_data in apps:\n",
    "    # resumir el id de la app en 6 caracteres\n",
    "    app_id = hashlib.md5(str(app).encode('utf-8')).hexdigest()[:6]\n",
    "    app_data.to_csv(\n",
    "        f'./dataset/apps/app_invocations_per_function_{app_id}.csv', index=False)"
   ]
  },
  {
   "attachments": {},
   "cell_type": "markdown",
   "metadata": {},
   "source": [
    "### Opcion 2\n"
   ]
  },
  {
   "cell_type": "code",
   "execution_count": 4,
   "metadata": {},
   "outputs": [],
   "source": [
    "# Paso 1: importar las librerías necesarias\n",
    "import pandas as pd\n",
    "import os\n",
    "import zipfile\n",
    "import hashlib"
   ]
  },
  {
   "cell_type": "code",
   "execution_count": 16,
   "metadata": {},
   "outputs": [],
   "source": [
    "day = 3\n",
    "\n",
    "# Paso 2: leer el primer archivo de los 14 y extraer el número de día del nombre del archivo.\n",
    "filename = f'dataset/invocations_per_function_md.anon.d{day:02}.csv'\n",
    "day_num = filename[-7:-4]"
   ]
  },
  {
   "cell_type": "code",
   "execution_count": 17,
   "metadata": {},
   "outputs": [],
   "source": [
    "# Paso 3: crear una carpeta con el número de día y nos movemos dentro de ella.\n",
    "new_dir = f'dataset/{day_num}'\n",
    "if not os.path.exists(new_dir):\n",
    "    os.makedirs(new_dir, exist_ok=True)"
   ]
  },
  {
   "cell_type": "code",
   "execution_count": 18,
   "metadata": {},
   "outputs": [
    {
     "name": "stdout",
     "output_type": "stream",
     "text": [
      "Ya existe: dataset/d03/app_invocations_per_function_ffae94.csv\n",
      "Ya existe: dataset/d03/app_invocations_per_function_06b317.csv\n",
      "Ya existe: dataset/d03/app_invocations_per_function_644652.csv\n"
     ]
    }
   ],
   "source": [
    "# Paso 4: leer el archivo y agrupar las funciones por cada aplicación.\n",
    "df = pd.read_csv(filename, dtype={\n",
    "                 'HashOwner': str, 'HashApp': str, 'HashFunction': str})\n",
    "grouped = df.groupby('HashApp')\n",
    "\n",
    "# Paso 5: guardar cada grupo en un archivo CSV con el nombre correspondiente.\n",
    "for app_id, group in grouped:\n",
    "    # while True:\n",
    "    # app_id = hashlib.md5(str(app_id).encode('utf-8')).hexdigest()[:6]  # resumir el id de la app en 6 caracteres\n",
    "    app_id = hashlib.md5(str(app_id).encode('utf-8')).hexdigest()\n",
    "    app_id = f'{app_id[:3]}{app_id[-3:]}'\n",
    "    filename = f\"{new_dir}/app_invocations_per_function_{app_id}.csv\"\n",
    "    if os.path.exists(filename):\n",
    "        print(\"Ya existe: \" + filename)\n",
    "        continue\n",
    "        # break\n",
    "    group.to_csv(filename, index=False)"
   ]
  },
  {
   "cell_type": "code",
   "execution_count": 19,
   "metadata": {},
   "outputs": [],
   "source": [
    "# Paso 6: comprimir la carpeta en un archivo ZIP.\n",
    "zip_filename = f\"dataset/{day_num}.zip\"\n",
    "with zipfile.ZipFile(zip_filename, 'w', zipfile.ZIP_DEFLATED) as zipf:\n",
    "    for root, dirs, files in os.walk(new_dir):\n",
    "        for file in files:\n",
    "            zipf.write(os.path.join(root, file), file)"
   ]
  },
  {
   "attachments": {},
   "cell_type": "markdown",
   "metadata": {},
   "source": [
    "# Opcion 3\n",
    "\n",
    "Toma los primeros tres dias junta la información relevante y luego separa por archivos cada una de las aplicaciones\n"
   ]
  },
  {
   "cell_type": "code",
   "execution_count": 1,
   "metadata": {},
   "outputs": [],
   "source": [
    "# Paso 1: importar las librerías necesarias\n",
    "import pandas as pd\n",
    "import os\n",
    "import zipfile\n",
    "import hashlib"
   ]
  },
  {
   "cell_type": "code",
   "execution_count": 2,
   "metadata": {},
   "outputs": [],
   "source": [
    "# Leer los tres primeros archivos del dataset\n",
    "dataframes = []\n",
    "for i in range(4, 7):\n",
    "    filename = f'dataset/invocations_per_function_md.anon.d{i:02}.csv'\n",
    "    df = pd.read_csv(filename)\n",
    "    # Eliminar las columnas \"Owner\" y \"Trigger\"\n",
    "    df.drop(['HashOwner', 'Trigger'], axis=1, inplace=True)\n",
    "    # Añadir la columna \"Day\"\n",
    "    df['Day'] = i\n",
    "    dataframes.append(df)\n",
    "\n",
    "# Concatenar los dataframes en uno solo\n",
    "df = pd.concat(dataframes, ignore_index=True)"
   ]
  },
  {
   "cell_type": "code",
   "execution_count": 3,
   "metadata": {},
   "outputs": [],
   "source": [
    "day_num = 'd4-6'"
   ]
  },
  {
   "cell_type": "code",
   "execution_count": 4,
   "metadata": {},
   "outputs": [],
   "source": [
    "# Paso 3: crear una carpeta con el número de día y nos movemos dentro de ella.\n",
    "new_dir = f'dataset/{day_num}'\n",
    "if not os.path.exists(new_dir):\n",
    "    os.makedirs(new_dir, exist_ok=True)"
   ]
  },
  {
   "cell_type": "code",
   "execution_count": 5,
   "metadata": {},
   "outputs": [],
   "source": [
    "grouped = df.groupby('HashApp')"
   ]
  },
  {
   "cell_type": "code",
   "execution_count": 6,
   "metadata": {},
   "outputs": [],
   "source": [
    "top_10_max_group_size = [0, 0, 0, 0, 0, 0, 0, 0, 0, 0]\n",
    "top_10_max_group_name = ['', '', '', '', '', '', '', '', '', '']\n",
    "# Paso 5: guardar cada grupo en un archivo CSV con el nombre correspondiente.\n",
    "for app_id, group in grouped:\n",
    "    # while True:\n",
    "    # app_id = hashlib.md5(str(app_id).encode('utf-8')).hexdigest()[:6]  # resumir el id de la app en 6 caracteres\n",
    "    group.drop(['HashApp'], axis=1, inplace=True)\n",
    "    app_id = hashlib.md5(str(app_id).encode('utf-8')).hexdigest()\n",
    "    app_id = f'{app_id[:10]}{app_id[-10:]}'\n",
    "    filename = f\"{new_dir}/app_{app_id}.csv\"\n",
    "    if os.path.exists(filename):\n",
    "        print(\"Ya existe: \" + filename)\n",
    "        continue\n",
    "        # break\n",
    "    # Validar si el grupo tiene más filas que el menor del top 10\n",
    "    if len(group) > min(top_10_max_group_size):\n",
    "        # Eliminar el menor del top 10\n",
    "        index = top_10_max_group_size.index(min(top_10_max_group_size))\n",
    "        top_10_max_group_size.pop(index)\n",
    "        top_10_max_group_name.pop(index)\n",
    "        # Añadir el nuevo grupo al top 10\n",
    "        top_10_max_group_size.append(len(group))\n",
    "        top_10_max_group_name.append(filename)\n",
    "    # Eliminar las columnas \"HashApp\"\n",
    "    group.to_csv(filename, index=False)"
   ]
  },
  {
   "cell_type": "code",
   "execution_count": 7,
   "metadata": {},
   "outputs": [
    {
     "name": "stdout",
     "output_type": "stream",
     "text": [
      "[200, 189, 435, 198, 370, 210, 224, 313, 812, 393]\n",
      "['dataset/d4-6/app_4e1ad75093537eb9f088.csv', 'dataset/d4-6/app_dadba253f2dba4f5af1c.csv', 'dataset/d4-6/app_38a49381a08c80417dd8.csv', 'dataset/d4-6/app_df9a5eece260ce505e61.csv', 'dataset/d4-6/app_62b6226b7445299d44c1.csv', 'dataset/d4-6/app_0793e26303677d5147f3.csv', 'dataset/d4-6/app_6bc483d50b0db0d5e04f.csv', 'dataset/d4-6/app_51914548b36b64b62026.csv', 'dataset/d4-6/app_651a93714e15b730de60.csv', 'dataset/d4-6/app_4f61125ed22f8aaae4af.csv']\n"
     ]
    }
   ],
   "source": [
    "print(top_10_max_group_size)\n",
    "print(top_10_max_group_name)"
   ]
  },
  {
   "cell_type": "code",
   "execution_count": 8,
   "metadata": {},
   "outputs": [],
   "source": [
    "# Paso 6: comprimir la carpeta en un archivo ZIP.\n",
    "zip_filename = f\"dataset/{day_num}.zip\"\n",
    "with zipfile.ZipFile(zip_filename, 'w', zipfile.ZIP_DEFLATED) as zipf:\n",
    "    for root, dirs, files in os.walk(new_dir):\n",
    "        for file in files:\n",
    "            zipf.write(os.path.join(root, file), file)"
   ]
  },
  {
   "attachments": {},
   "cell_type": "markdown",
   "metadata": {},
   "source": [
    "# Preprocesamiento del dataset\n"
   ]
  },
  {
   "cell_type": "code",
   "execution_count": 1,
   "metadata": {},
   "outputs": [],
   "source": [
    "import pandas as pd\n",
    "import numpy as np"
   ]
  },
  {
   "cell_type": "code",
   "execution_count": 3,
   "metadata": {},
   "outputs": [],
   "source": [
    "# Definir la lista de nombres de columnas para el DataFrame\n",
    "column_names = ['HashOwner', 'HashApp', 'HashFunction',\n",
    "                'Trigger'] + [str(i) for i in range(1440)]\n",
    "\n",
    "# Crear una lista de DataFrames para almacenar los datos de cada archivo\n",
    "dataframes = []\n",
    "\n",
    "# Cargar los primeros 3 días de datos\n",
    "for i in range(1, 4):\n",
    "    filename = f\"dataset/invocations_per_function_md.anon.d{i:02d}.csv\"\n",
    "    df = pd.read_csv(filename, names=column_names)\n",
    "    # Eliminar las columnas \"Owner\" y \"Trigger\"\n",
    "    df.drop(['HashOwner', 'Trigger'], axis=1, inplace=True)\n",
    "    df['Day'] = i  # Agregar la columna 'Day' con el número de día correspondiente\n",
    "    dataframes.append(df)\n",
    "\n",
    "# Combinar los DataFrames en uno solo\n",
    "dataset = pd.concat(dataframes, ignore_index=True)"
   ]
  },
  {
   "cell_type": "code",
   "execution_count": 5,
   "metadata": {},
   "outputs": [
    {
     "ename": "",
     "evalue": "",
     "output_type": "error",
     "traceback": [
      "\u001b[1;31mCanceled future for execute_request message before replies were done"
     ]
    },
    {
     "ename": "",
     "evalue": "",
     "output_type": "error",
     "traceback": [
      "\u001b[1;31mThe Kernel crashed while executing code in the the current cell or a previous cell. Please review the code in the cell(s) to identify a possible cause of the failure. Click <a href='https://aka.ms/vscodeJupyterKernelCrash'>here</a> for more info. View Jupyter <a href='command:jupyter.viewOutput'>log</a> for further details."
     ]
    }
   ],
   "source": [
    "# Utilizar la función melt para transformar las columnas de los minutos en filas\n",
    "dataset = pd.melt(dataset, id_vars=[\n",
    "                  'HashApp', 'HashFunction', 'Day'], var_name='Minute', value_name='NumInvocations')\n",
    "\n",
    "# Ordenar los datos por HashApp, HashFunction, Day y Minute\n",
    "dataset = dataset.sort_values(\n",
    "    by=['HashApp', 'HashFunction', 'Day', 'Minute']).reset_index(drop=True)"
   ]
  },
  {
   "cell_type": "code",
   "execution_count": null,
   "metadata": {},
   "outputs": [],
   "source": [
    "dataset.head()"
   ]
  },
  {
   "cell_type": "code",
   "execution_count": null,
   "metadata": {},
   "outputs": [],
   "source": [
    "dataset.to_csv('dataset/invocations_per_minute.d1-3.csv', index=False)"
   ]
  },
  {
   "cell_type": "code",
   "execution_count": null,
   "metadata": {},
   "outputs": [],
   "source": [
    "functions = dataset.groupby('HashFunction')\n",
    "# Columns: HashFunction, Day, Minute, NumInvocations\n",
    "# Get Top 10 functions with more invocations\n",
    "functions = functions.agg({'NumInvocations': 'sum'}).sort_values(\n",
    "    by='NumInvocations', ascending=False).head(10).reset_index()\n",
    "# Print the name of the function and the sum of invocations\n",
    "for function, data in functions:\n",
    "    print(function, data['NumInvocations'].sum())"
   ]
  },
  {
   "cell_type": "markdown",
   "metadata": {},
   "source": [
    "# Obtencion funciones seleccionadas\n"
   ]
  },
  {
   "cell_type": "code",
   "execution_count": 8,
   "metadata": {},
   "outputs": [],
   "source": [
    "import pandas as pd"
   ]
  },
  {
   "cell_type": "code",
   "execution_count": 9,
   "metadata": {},
   "outputs": [],
   "source": [
    "functions = []"
   ]
  },
  {
   "cell_type": "code",
   "execution_count": 10,
   "metadata": {},
   "outputs": [
    {
     "name": "stdout",
     "output_type": "stream",
     "text": [
      "Day 01 done\n",
      "Day 02 done\n",
      "Day 03 done\n",
      "Day 04 done\n",
      "Day 05 done\n",
      "Day 06 done\n",
      "Day 07 done\n",
      "Day 08 done\n",
      "Day 09 done\n",
      "Day 10 done\n",
      "Day 11 done\n",
      "Day 12 done\n",
      "Day 13 done\n",
      "Day 14 done\n"
     ]
    }
   ],
   "source": [
    "# Definir la lista de nombres de columnas para el DataFrame\n",
    "column_names = ['HashOwner', 'HashApp', 'HashFunction',\n",
    "                'Trigger'] + [str(i) for i in range(1440)]\n",
    "\n",
    "# Crear una lista de DataFrames para almacenar los datos de cada archivo\n",
    "dataframes = []\n",
    "\n",
    "for i in range(1, 15):\n",
    "    filename = f\"dataset/invocations_per_function_md.anon.d{i:02d}.csv\"\n",
    "    df = pd.read_csv(filename, names=column_names)\n",
    "    # Eliminar las columnas \"Owner\" y \"Trigger\"\n",
    "    df.drop(['HashApp', 'HashOwner', 'Trigger'], axis=1, inplace=True)\n",
    "    # Agregar la columna 'Day' con el número de día correspondiente\n",
    "    df['Day'] = int(i)\n",
    "    # Filtrar las funciones que nos interesan\n",
    "    df = df[df['HashFunction'].isin(functions)]\n",
    "    dataframes.append(df)\n",
    "    print(f\"Day {i:02d} done\")\n",
    "\n",
    "# Combinar los DataFrames en uno solo\n",
    "dataset = pd.concat(dataframes, ignore_index=True)"
   ]
  },
  {
   "cell_type": "code",
   "execution_count": null,
   "metadata": {},
   "outputs": [],
   "source": [
    "dataset.head()"
   ]
  },
  {
   "cell_type": "code",
   "execution_count": 12,
   "metadata": {},
   "outputs": [
    {
     "data": {
      "text/plain": [
       "(112, 1442)"
      ]
     },
     "execution_count": 12,
     "metadata": {},
     "output_type": "execute_result"
    }
   ],
   "source": [
    "dataset.shape"
   ]
  },
  {
   "cell_type": "code",
   "execution_count": null,
   "metadata": {},
   "outputs": [],
   "source": [
    "repetidos = dataset['HashFunction'].value_counts()\n",
    "print(repetidos)"
   ]
  },
  {
   "cell_type": "code",
   "execution_count": 21,
   "metadata": {},
   "outputs": [],
   "source": [
    "# aux = dataset.copy()\n",
    "# dataset = aux.copy()"
   ]
  },
  {
   "cell_type": "code",
   "execution_count": 14,
   "metadata": {},
   "outputs": [],
   "source": [
    "# Utilizar la función melt para transformar las columnas de los minutos en filas\n",
    "dataset = pd.melt(dataset, id_vars=[\n",
    "                  'HashFunction', 'Day'], var_name='Minute', value_name='NumInvocations')\n",
    "dataset['Minute'] = dataset['Minute'].astype('int64')\n",
    "# Ordenar los datos por HashFunction, Day y Minute\n",
    "dataset = dataset.sort_values(\n",
    "    by=['HashFunction', 'Day', 'Minute']).reset_index(drop=True)"
   ]
  },
  {
   "cell_type": "code",
   "execution_count": 15,
   "metadata": {},
   "outputs": [
    {
     "data": {
      "text/plain": [
       "HashFunction      object\n",
       "Day                int64\n",
       "Minute             int64\n",
       "NumInvocations     int64\n",
       "dtype: object"
      ]
     },
     "execution_count": 15,
     "metadata": {},
     "output_type": "execute_result"
    }
   ],
   "source": [
    "dataset.dtypes"
   ]
  },
  {
   "cell_type": "code",
   "execution_count": 16,
   "metadata": {},
   "outputs": [],
   "source": [
    "dataset.to_csv('dataset/invocations_per_minute.d1-14.csv', index=False)"
   ]
  },
  {
   "cell_type": "markdown",
   "metadata": {},
   "source": [
    "# Filtrar dias seleccionados de funciones seleccionadas\n"
   ]
  },
  {
   "cell_type": "code",
   "execution_count": 1,
   "metadata": {},
   "outputs": [],
   "source": [
    "import pandas as pd"
   ]
  },
  {
   "cell_type": "code",
   "execution_count": 18,
   "metadata": {},
   "outputs": [],
   "source": [
    "functions = [\n",
    "    (1, 'df80ec', 10),\n",
    "    (2, 'f6e348', 10),\n",
    "    (3, '324d4c', 10),\n",
    "    (4, '3a3e84', 10),\n",
    "    (5, 'efd623', 10),\n",
    "    (6, '60e1a1', 10),\n",
    "    (7, 'be17f4', 10),\n",
    "    (8, '254ec4', 10)\n",
    "]"
   ]
  },
  {
   "cell_type": "code",
   "execution_count": 19,
   "metadata": {},
   "outputs": [],
   "source": [
    "df = pd.read_csv('dataset/goup_by_app/invocations_per_minute.d1-14.csv')"
   ]
  },
  {
   "cell_type": "code",
   "execution_count": null,
   "metadata": {},
   "outputs": [],
   "source": [
    "dataframes = []\n",
    "for i, function, day in functions:\n",
    "    print(f\"Function {i} - {function} - {day} day\")\n",
    "    df_function = df[df['HashFunction'] == function]\n",
    "    df_function = df_function[df_function['Day'] == day]\n",
    "    df_function['Function'] = i\n",
    "    df_function.drop(['HashFunction', 'Day'], axis=1, inplace=True)\n",
    "    dataframes.append(df_function)\n",
    "    print(f\"Function {i} done\")\n",
    "\n",
    "dataset = pd.concat(dataframes, ignore_index=True)"
   ]
  },
  {
   "cell_type": "code",
   "execution_count": 21,
   "metadata": {},
   "outputs": [],
   "source": [
    "dataset = dataset[['Function', 'Minute', 'NumInvocations']]\n",
    "dataset.to_csv('dataset/invocations_per_minute.csv', index=False)"
   ]
  }
 ],
 "metadata": {
  "kernelspec": {
   "display_name": "venv",
   "language": "python",
   "name": "python3"
  },
  "language_info": {
   "codemirror_mode": {
    "name": "ipython",
    "version": 3
   },
   "file_extension": ".py",
   "mimetype": "text/x-python",
   "name": "python",
   "nbconvert_exporter": "python",
   "pygments_lexer": "ipython3",
   "version": "3.10.12"
  },
  "orig_nbformat": 4
 },
 "nbformat": 4,
 "nbformat_minor": 2
}
